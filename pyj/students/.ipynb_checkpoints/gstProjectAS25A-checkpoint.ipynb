{
 "cells": [
  {
   "cell_type": "markdown",
   "id": "b42b3cbc-0e25-4196-b7d3-82334dddf044",
   "metadata": {
    "tags": []
   },
   "source": [
    "# GST Billing System\n",
    "- Roll No - 1 : AGRIMA SRIVASTAVA\n",
    "- COMPUTER SCIENCE\n",
    "- In this project few fields where chosen to be entered into mySQL database and\n",
    "   a system of query, updating, deleting etc records was developed which was menu\n",
    "   driven through options\n",
    "- Last Update on 12 Jan 2025"
   ]
  },
  {
   "cell_type": "markdown",
   "id": "11aa27ce-d91c-41bc-897d-68d0d58aa855",
   "metadata": {
    "tags": []
   },
   "source": [
    "## Certificate\n",
    "- This is to certify that this Computer Science Project on GST Billing System \n",
    "    has been successfully completed by Agrima Srivastava of Class XII-B of \n",
    "    Loreto Convent School as part of CBSE New Delhi for Academic Year : 2024-25\n",
    "- ...............\n",
    "- Teachers Sign"
   ]
  },
  {
   "cell_type": "markdown",
   "id": "f7d46204-0c20-450e-8b45-a97301cea875",
   "metadata": {},
   "source": [
    "## Software Used\n",
    "- Anaconda - Python, Jupyter Notebook\n",
    "- Windows\n",
    "- MySQL "
   ]
  },
  {
   "cell_type": "markdown",
   "id": "be9c3cd7-3890-4195-95b8-42737bd79a63",
   "metadata": {},
   "source": [
    "# Application / Projects\n",
    "- Install Libraries\n",
    "    - !pip install mysql.connector\n",
    "    - !pip install pandas\n",
    "    - !pip install mysql-connector-python\n",
    "    - !pip install --upgrade tabulate  # markdown\n",
    "    - !pip show tabulate # for pdf\n",
    "    - !pip install datetime\n",
    "    - !pip install fpdf"
   ]
  },
  {
   "cell_type": "raw",
   "id": "516bada1-ec1f-473f-8050-457c39a5a6a0",
   "metadata": {
    "tags": []
   },
   "source": [
    "!pip install mysql.connector\n",
    "!pip install pandas\n",
    "!pip install mysql-connector-python\n",
    "!pip install --upgrade tabulate  # markdown\n",
    "!pip show tabulate # for pdf\n",
    "!pip install datetime\n",
    "!pip install fpdf"
   ]
  },
  {
   "cell_type": "raw",
   "id": "b04bf9d8-62a2-42b2-92cc-d2f1e5b9a8d2",
   "metadata": {},
   "source": [
    "## Libraries"
   ]
  },
  {
   "cell_type": "code",
   "execution_count": 6,
   "id": "86ba37e4-486f-4e9e-a253-1339f12f052c",
   "metadata": {
    "tags": []
   },
   "outputs": [],
   "source": [
    "# Libraries Used in the Project\n",
    "import mysql.connector  # connecting to Mysql\n",
    "from mysql.connector import Error # for capturing errors due to no connection\n",
    "from IPython.display import clear_output #not used \n",
    "import pandas as pd # show table as pandas\n",
    "from fpdf import FPDF\n",
    "from datetime import datetime"
   ]
  },
  {
   "cell_type": "code",
   "execution_count": 7,
   "id": "2bb9f4d6-dd2e-4299-a29a-a1a6119704a9",
   "metadata": {
    "tags": []
   },
   "outputs": [],
   "source": [
    "#options\n",
    "pd.set_option('display.max_columns',10)\n",
    "pd.set_option(\"display.width\", 1000)"
   ]
  },
  {
   "cell_type": "markdown",
   "id": "de57fdb0-b068-4de0-b622-58763fba4249",
   "metadata": {},
   "source": [
    "## MySQL Connection\n",
    "- https://www.mysql.com/downloads/\n",
    "- Start MySQL, Login\n",
    "- Create Database : GSTBILLING \n",
    "    - create database GSTBILLING;\n",
    "- Create USER : shubha with PASSWORD : Agrima2024# and GRANT \\\n",
    "     ALL PRIVILIGES to \n",
    "     this user for database GSTBILLING\n",
    "    - create user 'shubha'@'localhost' identified by 'Agrima2024#';\n",
    "    - grant all on *.* to 'shubha'@'localhost' with GRANT OPTION;\n",
    "    - alter user 'shubha' identified by 'Agrima2024';\n",
    "- Use Database : GSTBILLING\n",
    "    - USE GSTBILLING;\n",
    "    - show tables;"
   ]
  },
  {
   "cell_type": "code",
   "execution_count": 9,
   "id": "beb5354f-1e15-4168-8776-9969f6a13f62",
   "metadata": {
    "tags": []
   },
   "outputs": [],
   "source": [
    "# Connection\n",
    "con = mysql.connector.connect( host='localhost', user='shubha',\n",
    "                              password='Agrima2024#', database='GSTBILLING')"
   ]
  },
  {
   "cell_type": "code",
   "execution_count": 10,
   "id": "bec0eca6-cf9c-494d-b256-21ee56389d0a",
   "metadata": {
    "tags": []
   },
   "outputs": [
    {
     "name": "stdout",
     "output_type": "stream",
     "text": [
      "<mysql.connector.connection.MySQLConnection object at 0x00000236FDC5B610>  on  2025-01-19 16:49:12.225451\n"
     ]
    }
   ],
   "source": [
    "print(con , ' on ', datetime.now())"
   ]
  },
  {
   "cell_type": "code",
   "execution_count": 11,
   "id": "e0acd365-ae1e-4de1-a502-2c37cefe8569",
   "metadata": {
    "tags": []
   },
   "outputs": [
    {
     "name": "stdout",
     "output_type": "stream",
     "text": [
      "Connection Successful\n",
      "Welcome to GST Billing - Product Table interface\n"
     ]
    }
   ],
   "source": [
    "if con.is_connected():\n",
    "    print(\"Connection Successful\")\n",
    "    print(\"Welcome to GST Billing - Product Table interface\")\n",
    "    cur=con.cursor()"
   ]
  },
  {
   "cell_type": "markdown",
   "id": "6d9473f8-0986-47ea-bece-23940f15cd30",
   "metadata": {},
   "source": [
    "## Create Empty Table\n",
    "- Create Table only if does not exist"
   ]
  },
  {
   "cell_type": "code",
   "execution_count": 12,
   "id": "bdc4f6d0-29f9-4ca4-92aa-40d0bbfe93ff",
   "metadata": {
    "tags": []
   },
   "outputs": [],
   "source": [
    "# Create Empty Table for Products and Invoice\n",
    "def create_table():\n",
    "    q1 = ''' CREATE TABLE IF NOT EXISTS products ( SNO INT PRIMARY KEY,PNAME \n",
    "    VARCHAR(255) NOT NULL, PRANK CHAR(5) NOT NULL, COY VARCHAR(255) NOT NULL, \n",
    "    DOM DATE NOT NULL,  PRICE DECIMAL(10, 2) ,  GST DECIMAL(5, 2) NOT NULL,  \n",
    "    FPRICE DECIMAL(10, 2) NOT NULL  )'''\n",
    "    cur=con.cursor()\n",
    "    cur.execute(q1)\n",
    "    print(\"An Empty Table - PRODUCTS has been created in Database - GSTBILLING\")\n",
    "    cur.close()\n",
    "    q2 = ''' CREATE TABLE IF NOT EXISTS invoice (INVOICE_ID INT \n",
    "    AUTO_INCREMENT PRIMARY KEY,  created_at TIMESTAMP DEFAULT CURRENT_TIMESTAMP, \n",
    "    SNO INT, QTY INT NOT NULL  )'''\n",
    "    cur=con.cursor()\n",
    "    cur.execute(q2)\n",
    "    print(\"An Empty Table - INVOICE has been created in Database - GSTBILLING\")\n",
    "    cur.close()"
   ]
  },
  {
   "cell_type": "code",
   "execution_count": 14,
   "id": "7cf11388-e2ad-4e1a-b415-41993a678226",
   "metadata": {
    "tags": []
   },
   "outputs": [
    {
     "name": "stdout",
     "output_type": "stream",
     "text": [
      "An Empty Table - PRODUCTS has been created in Database - GSTBILLING\n",
      "An Empty Table - INVOICE has been created in Database - GSTBILLING\n"
     ]
    }
   ],
   "source": [
    "create_table()  #run the function to test only"
   ]
  },
  {
   "cell_type": "markdown",
   "id": "b1e4df6c-67fd-4fbf-b425-54bf98ad9a38",
   "metadata": {},
   "source": [
    "## Describe Products Table"
   ]
  },
  {
   "cell_type": "code",
   "execution_count": 15,
   "id": "3ce00d6b-1bde-4557-8fc7-16a05c7e7981",
   "metadata": {
    "tags": []
   },
   "outputs": [],
   "source": [
    "# Describe Products table\n",
    "def describe_table():\n",
    "    cur=con.cursor()\n",
    "    if con.is_connected():\n",
    "        print('Connected to Database : GST BILLING')\n",
    "        tables = [\"invoice\", \"products\"]\n",
    "        #cur = con.cursor()\n",
    "        for table in tables:\n",
    "            describe_query = f\"DESCRIBE {table}\"\n",
    "            cur.execute(describe_query)\n",
    "            tableDescp = cur.fetchall()\n",
    "            print(f\"Table `{table}` Description printed (if it existed).\")\n",
    "            for column in tableDescp:\n",
    "                print(column)\n",
    "            print('====================')\n",
    "        cur.close()\n",
    "    else:\n",
    "        print('No connection to database/ mysql')"
   ]
  },
  {
   "cell_type": "code",
   "execution_count": 16,
   "id": "b7cd89b5-255f-4d3c-a396-fa776c86a638",
   "metadata": {
    "tags": []
   },
   "outputs": [
    {
     "name": "stdout",
     "output_type": "stream",
     "text": [
      "Connected to Database : GST BILLING\n",
      "Table `invoice` Description printed (if it existed).\n",
      "('INVOICE_ID', 'int', 'NO', 'PRI', None, 'auto_increment')\n",
      "('created_at', 'timestamp', 'YES', '', 'CURRENT_TIMESTAMP', 'DEFAULT_GENERATED')\n",
      "('SNO', 'int', 'YES', '', None, '')\n",
      "('QTY', 'int', 'NO', '', None, '')\n",
      "====================\n",
      "Table `products` Description printed (if it existed).\n",
      "('SNO', 'int', 'NO', 'PRI', None, '')\n",
      "('PNAME', 'varchar(255)', 'NO', '', None, '')\n",
      "('PRANK', 'char(5)', 'NO', '', None, '')\n",
      "('COY', 'varchar(255)', 'NO', '', None, '')\n",
      "('DOM', 'date', 'NO', '', None, '')\n",
      "('PRICE', 'decimal(10,2)', 'YES', '', None, '')\n",
      "('GST', 'decimal(5,2)', 'NO', '', None, '')\n",
      "('FPRICE', 'decimal(10,2)', 'NO', '', None, '')\n",
      "====================\n"
     ]
    }
   ],
   "source": [
    "describe_table()"
   ]
  },
  {
   "cell_type": "code",
   "execution_count": 17,
   "id": "d8dbd133",
   "metadata": {
    "tags": []
   },
   "outputs": [
    {
     "name": "stdout",
     "output_type": "stream",
     "text": [
      "Number of records in the table: 0\n"
     ]
    },
    {
     "data": {
      "text/plain": [
       "True"
      ]
     },
     "execution_count": 17,
     "metadata": {},
     "output_type": "execute_result"
    }
   ],
   "source": [
    "# Write the SQL query to count rows\n",
    "cur = con.cursor()\n",
    "qc1 = \"SELECT COUNT(*) FROM products\"\n",
    "# Execute the query\n",
    "cur.execute(qc1)\n",
    "# Fetch the result\n",
    "count = cur.fetchone()[0]\n",
    "print(f\"Number of records in the table: {count}\")\n",
    "cur.close()"
   ]
  },
  {
   "cell_type": "raw",
   "id": "72386ea5",
   "metadata": {},
   "source": [
    "## Delete Table"
   ]
  },
  {
   "cell_type": "code",
   "execution_count": 18,
   "id": "a88203f6-d780-430a-b871-6fbe0f364ac5",
   "metadata": {
    "tags": []
   },
   "outputs": [],
   "source": [
    "#fun to delete products table\n",
    "def delete_table():\n",
    "    tables = [\"invoice\", \"products\"]\n",
    "    cur = con.cursor()\n",
    "    for table in tables:\n",
    "        drop_query = f\"DROP TABLE IF EXISTS {table}\"\n",
    "        cur.execute(drop_query)\n",
    "        print(f\"Table `{table}` dropped successfully (if it existed).\")\n",
    "    con.commit()\n",
    "    cur.close()"
   ]
  },
  {
   "cell_type": "code",
   "execution_count": 19,
   "id": "f96a5cf1-16fc-429d-abc3-f9fba08bb08c",
   "metadata": {
    "tags": []
   },
   "outputs": [],
   "source": [
    "#delete_table() # do only if required or to tests"
   ]
  },
  {
   "cell_type": "markdown",
   "id": "0de5e936-1d31-4ea3-84d0-35fe22ddcc1f",
   "metadata": {},
   "source": [
    "## Add Sample Records"
   ]
  },
  {
   "cell_type": "code",
   "execution_count": 20,
   "id": "8c2605e6-3200-48df-bb3f-c8053e627d11",
   "metadata": {
    "tags": []
   },
   "outputs": [],
   "source": [
    "# insert sample rowsc to products table\n",
    "def insert_sample():\n",
    "    sData = [\n",
    "            (10001, 'Product A', 'A', 'Company X', 100, '2024-01-01', 30, 130),\n",
    "            (20001, 'Product B', 'B', 'Company Y', 200, '2024-02-01', 15, 230),\n",
    "            (30001, 'Product C', 'C', 'Company Z', 300, '2024-03-01', 5, 315),\n",
    "            (40001, 'Product D', 'B', 'Company X', 400, '2024-04-01', 15, 460),\n",
    "            (50001, 'Product E', 'A', 'Company Y', 500, '2024-05-01', 30, 650)\n",
    "        ]\n",
    "    print('Sample Data inserted' , sData)\n",
    "    cur = con.cursor()\n",
    "    iq1 =  ''' INSERT INTO products (SNO, PNAME, PRANK, COY, PRICE, DOM,\n",
    "    GST, FPRICE) VALUES (%s, %s, %s, %s, %s, %s, %s, %s) '''\n",
    "    #if con.is_connected():\n",
    "    cur.executemany(iq1, sData)\n",
    "    con.commit()\n",
    "    cur.close()\n",
    "    #print(f'{cur.rowcount} rows inserted successfully !')"
   ]
  },
  {
   "cell_type": "code",
   "execution_count": 21,
   "id": "4fac85b2-3425-4615-89bd-623a707ad239",
   "metadata": {
    "tags": []
   },
   "outputs": [],
   "source": [
    "#insert_sample() # for testing only"
   ]
  },
  {
   "cell_type": "raw",
   "id": "8c373d3f",
   "metadata": {
    "tags": []
   },
   "source": [
    "cur = con.cursor()\n",
    "cur.execute(\"SELECT COUNT(*) FROM products\")\n",
    "count = cur.fetchone()[0]\n",
    "print(f\"Number of records in the table now : {count}\")\n",
    "cur.close()"
   ]
  },
  {
   "cell_type": "markdown",
   "id": "70b5e073-d06f-49dc-88eb-3b2def88d7f4",
   "metadata": {},
   "source": [
    "## Add Product One by One "
   ]
  },
  {
   "cell_type": "code",
   "execution_count": 22,
   "id": "cc90c5ef-6d05-44cb-8e5c-c53c709e62ef",
   "metadata": {
    "tags": []
   },
   "outputs": [
    {
     "data": {
      "text/plain": [
       "False"
      ]
     },
     "execution_count": 22,
     "metadata": {},
     "output_type": "execute_result"
    }
   ],
   "source": [
    "# Add Products\n",
    "def add_products():\n",
    "    opt='y'\n",
    "    while opt == 'y':\n",
    "        qa2 = '''insert into products( SNO,PNAME, PRANK, COY,  DOM, \n",
    "        PRICE, GST, FPRICE) values (%s,%s,%s, %s, %s, %s,%s,%s)'''\n",
    "        iSNO = int(input(\"enter the product serial number (integer):\"))\n",
    "        iPNAME = input(\"enter the product name (text) :\")\n",
    "        iCOY = input(\"enter the company name (Text) \")\n",
    "        iDOM = input(\"enter the Date of manufacutre: YYYY-MM-DD format\")\n",
    "        iPRANK = input(\"Enter the Rank Category (A/B/C) :\")\n",
    "        iPRICE = int(input(\"Enter the product price (no):\"))\n",
    "        iFPRICE = 0\n",
    "        iGST = 0\n",
    "        print(\" GST percentages are given below according to their ranks\")\n",
    "        print(\" Rank - A ->30%, B-> 15%, C- 5%\")\n",
    "        \n",
    "        if iPRANK==\"A\":\n",
    "            iGST = 30\n",
    "            iFPRICE = iPRICE + iPRICE * iGST/100\n",
    "        elif iPRANK == \"B\":\n",
    "            iGST = 15\n",
    "            iFPRICE = iPRICE + iPRICE * iGST/100\n",
    "        elif iPRANK == \"C\":\n",
    "            iGST = 5\n",
    "            iFPRICE = iPRICE + iPRICE * iGST/100\n",
    "        else:\n",
    "            iGST = 0\n",
    "            iFPRICE = iPRICE + iPRICE * iGST/100\n",
    "        cur = con.cursor()\n",
    "        data = (iSNO, iPNAME, iPRANK, iCOY, iDOM,  iPRICE,  iGST, iFPRICE)\n",
    "        print('You have entered these values', iSNO, iPNAME, iPRANK, iCOY, iDOM,\n",
    "              iPRICE, iGST, iFPRICE)\n",
    "        cur.execute(qa2, data)\n",
    "        con.commit()\n",
    "        print(f\"One Record insertion {iSNO} completed with values \\n\")\n",
    "        #print(SNO, PNAME, COY, DOM, PRANK, PRICE, GST, FPRICE)\n",
    "        opt = input(\"Do you want to add another product detail (y/n):\")\n",
    "cur.close()"
   ]
  },
  {
   "cell_type": "code",
   "execution_count": 23,
   "id": "b2229560-d5cc-4400-9ea0-a96bee4e71b7",
   "metadata": {
    "tags": []
   },
   "outputs": [],
   "source": [
    "#add_products() # this is for testing in script, run it through the menu"
   ]
  },
  {
   "cell_type": "markdown",
   "id": "7be21a28-beb7-4878-9b69-66b7f09cf8c1",
   "metadata": {},
   "source": [
    "## Display all records"
   ]
  },
  {
   "cell_type": "code",
   "execution_count": 24,
   "id": "378d182d-ada3-48cd-b9e2-1cb80b221548",
   "metadata": {
    "tags": []
   },
   "outputs": [],
   "source": [
    "# display all records\n",
    "def display_all():\n",
    "    qd1 = 'select * from products'\n",
    "    cur=con.cursor()\n",
    "    cur.execute(qd1)\n",
    "    records = cur.fetchall()\n",
    "    print(f\"{len(records)} found in the products table\") \n",
    "    if records:\n",
    "        print('\\n All records in the products Table')\n",
    "        for row in records:\n",
    "            print(row)\n",
    "    else:\n",
    "        print('\\n No records found in the products Table')\n",
    "    cur.close()"
   ]
  },
  {
   "cell_type": "code",
   "execution_count": 25,
   "id": "e50bd496-cde6-415d-8e20-252a4ea955a7",
   "metadata": {
    "tags": []
   },
   "outputs": [],
   "source": [
    "#display_all()"
   ]
  },
  {
   "cell_type": "markdown",
   "id": "16d9a3bf-80d2-4417-bfdb-bde945fc2681",
   "metadata": {},
   "source": [
    "## Display Records in Data Frame Format"
   ]
  },
  {
   "cell_type": "code",
   "execution_count": 26,
   "id": "13c0c18b-a36d-4a4a-a051-46f6deec7ea8",
   "metadata": {
    "tags": []
   },
   "outputs": [],
   "source": [
    "# display all records\n",
    "def display_df():\n",
    "    qd2 = 'select * from products'\n",
    "    df = pd.read_sql(qd2, con=con)\n",
    "    print(df)"
   ]
  },
  {
   "cell_type": "code",
   "execution_count": 27,
   "id": "b0088058-32fb-41b9-a9ef-6f6492ca6ead",
   "metadata": {
    "tags": []
   },
   "outputs": [],
   "source": [
    "#display_df()"
   ]
  },
  {
   "cell_type": "markdown",
   "id": "0c4241d6-eeb2-42e5-a3c6-f1c796e73c7d",
   "metadata": {},
   "source": [
    "## Display Data in Markdown format"
   ]
  },
  {
   "cell_type": "code",
   "execution_count": 28,
   "id": "e86f7ec4-b471-4937-bb8d-3bce5ff62e07",
   "metadata": {
    "tags": []
   },
   "outputs": [],
   "source": [
    "# Fetch data into a DataFrame\n",
    "def display_mkdown():\n",
    "    qd3 = \"SELECT * FROM products\"\n",
    "    cur= con.cursor()\n",
    "    cur.execute(qd3)\n",
    "    columns = [col[0] for col in cur.description]\n",
    "    data = cur.fetchall()\n",
    "    df = pd.DataFrame(data, columns=columns)\n",
    "    # Display the DataFrame\n",
    "    print(df.to_markdown())  # For Markdown table-style display\n",
    "    cur.close()"
   ]
  },
  {
   "cell_type": "code",
   "execution_count": 29,
   "id": "27c64f73-e838-4627-8977-c01c3f24e761",
   "metadata": {
    "tags": []
   },
   "outputs": [],
   "source": [
    "#display_mkdown()"
   ]
  },
  {
   "cell_type": "code",
   "execution_count": 30,
   "id": "1d60c663-5b7a-496f-aed1-56a529fec856",
   "metadata": {
    "tags": []
   },
   "outputs": [],
   "source": [
    "#display_all()"
   ]
  },
  {
   "cell_type": "markdown",
   "id": "eb801b77-0f1c-42f6-8ce0-fe6a000fca92",
   "metadata": {
    "tags": []
   },
   "source": [
    "## Show Records as per SNO"
   ]
  },
  {
   "cell_type": "code",
   "execution_count": 31,
   "id": "c1ff6ab3-1e83-46a4-83f6-5cd7cba82987",
   "metadata": {},
   "outputs": [],
   "source": [
    "# display SNO\n",
    "def count_SNO():\n",
    "    cur = con.cursor()\n",
    "    cName = 'SNO'\n",
    "    qd2 = 'select SNO from products'\n",
    "    cur.execute(qd2)\n",
    "    records = cur.fetchall()\n",
    "    print(f\"{len(records)} found in the products table\") \n",
    "    if records:\n",
    "        print('\\nAll records in the products Table are - ')\n",
    "        #for row in records:  print(row, sep=', ')\n",
    "        print(f\"{cName} values: \", end=\"\")\n",
    "        print(\", \".join(str(value[0]) for value in records))\n",
    "    else:\n",
    "        print('\\n No records found in the products Table')\n",
    "    cur.close()"
   ]
  },
  {
   "cell_type": "code",
   "execution_count": 32,
   "id": "45c53816-4208-4d9d-a154-358461b19b79",
   "metadata": {
    "tags": []
   },
   "outputs": [
    {
     "name": "stdout",
     "output_type": "stream",
     "text": [
      "0 found in the products table\n",
      "\n",
      " No records found in the products Table\n"
     ]
    }
   ],
   "source": [
    "count_SNO()"
   ]
  },
  {
   "cell_type": "markdown",
   "id": "73c3640b-fb6e-45b2-b2dd-907a6848a24c",
   "metadata": {},
   "source": [
    "## Delete Row as per SNO\n",
    "- \"select * from products where SNO={}\".format(sno_value)\n",
    "-  cur.execute(qd3, (sno_value,))  (are similar ways)"
   ]
  },
  {
   "cell_type": "code",
   "execution_count": 33,
   "id": "097ef121-d977-409f-b72c-09ed35eb5f64",
   "metadata": {
    "tags": []
   },
   "outputs": [],
   "source": [
    "def delete_row():\n",
    "    count_SNO()\n",
    "    cName = 'SNO'\n",
    "    sno_value = input(f\"Enter the value for {cName} to delete: \")\n",
    "    qd3 = f\"DELETE FROM products WHERE {cName} = %s\"\n",
    "    cur = con.cursor()\n",
    "    cur.execute(qd3, (sno_value,))\n",
    "    con.commit()\n",
    "    # Check if a row was deleted\n",
    "    if cur.rowcount > 0:\n",
    "        print(f\"Row(s) deleted successfully! {cur.rowcount} row(s) affected.\")\n",
    "    else:\n",
    "        print(\"No rows found matching the criteria.\")\n",
    "    cur.close()"
   ]
  },
  {
   "cell_type": "code",
   "execution_count": 34,
   "id": "fc63cb24-d826-49a0-b38f-5de26e095bd7",
   "metadata": {
    "tags": []
   },
   "outputs": [],
   "source": [
    "#delete_row()"
   ]
  },
  {
   "cell_type": "markdown",
   "id": "e7646350-e3e4-4a8c-bd44-4545ffad33a6",
   "metadata": {},
   "source": [
    "## Update data of row\n",
    "- Select row based on SNO\n",
    "- Select the field to be update\n",
    "- Type the new value to be updated"
   ]
  },
  {
   "cell_type": "code",
   "execution_count": 35,
   "id": "825e95c8-2db4-4827-9c5f-2b7eed021283",
   "metadata": {
    "tags": []
   },
   "outputs": [],
   "source": [
    "def update_data():\n",
    "    pCol = 'SNO'\n",
    "    sno_value = input(f\"Enter the value for {pCol} to be updated : \")\n",
    "    print('Columns which can be updated are : PNAME, COY, PRICE, DOM, FPRICE')\n",
    "    print('GST is updated based on PRANK')\n",
    "    colUpdate = input(\"Enter the column name to be updated: \")\n",
    "    new_value = input(f\"Enter the new value for {colUpdate}: \")\n",
    "    qu1 = f\"UPDATE products SET {colUpdate} = %s WHERE {pCol} = %s\"\n",
    "    cur = con.cursor()\n",
    "    cur.execute(qu1, (new_value, sno_value))\n",
    "    con.commit()\n",
    "    if cur.rowcount > 0:\n",
    "        print(f\"Row(s) Updated successfully! {cur.rowcount} row(s) affected.\")\n",
    "    else:\n",
    "        print(\"No rows found matching the criteria.\")\n",
    "    cur.close()"
   ]
  },
  {
   "cell_type": "code",
   "execution_count": 36,
   "id": "78d58b40-8b8e-457a-a4a6-641fce5a9b86",
   "metadata": {
    "tags": []
   },
   "outputs": [],
   "source": [
    "#update_data()"
   ]
  },
  {
   "cell_type": "code",
   "execution_count": 37,
   "id": "7b1f4dc9-8a5a-4749-9475-5265ea8fab56",
   "metadata": {
    "tags": []
   },
   "outputs": [],
   "source": [
    "#display_all()"
   ]
  },
  {
   "cell_type": "markdown",
   "id": "54a364b7-d143-4c5c-8370-db4ec3f09760",
   "metadata": {},
   "source": [
    "## Update PRANK, GST, FPRICE"
   ]
  },
  {
   "cell_type": "code",
   "execution_count": 38,
   "id": "8d7bba30-d9f8-42f8-8a7e-7fa77802891c",
   "metadata": {
    "tags": []
   },
   "outputs": [],
   "source": [
    "def update_prank():\n",
    "    pCol = 'SNO'\n",
    "    sno_value = input(f'''Enter the value for {pCol} for whom you want \n",
    "                      to update PRANK/GST : ''')\n",
    "    print('Columns which are being  updated are : PRANK and then GST & FPRICE')\n",
    "    print('as GST is updated based on PRANK')\n",
    "    colUpdate = 'PRANK'\n",
    "    \n",
    "    #get price\n",
    "    qu2a = f\"SELECT * FROM products WHERE SNO = %s\"\n",
    "    cur = con.cursor()\n",
    "    cur.execute(qu2a, (sno_value,))\n",
    "    result = cur.fetchone()\n",
    "    if result:\n",
    "        iPRICE = result[5]\n",
    "        print(f'Price for {sno_value} is {iPRICE}') \n",
    "    else:\n",
    "        print('No existing value found')\n",
    "        iPRICE = 0\n",
    "    cur.close()\n",
    "    \n",
    "    iPRANK = input(f\"Enter the new value for {colUpdate}: \")\n",
    "    if iPRANK==\"A\":\n",
    "        iGST = 30\n",
    "        iFPRICE = iPRICE + iPRICE * iGST/100\n",
    "    elif iPRANK == \"B\":\n",
    "        iGST = 15\n",
    "        iFPRICE = iPRICE + iPRICE * iGST/100\n",
    "    elif iPRANK == \"C\":\n",
    "        iGST = 5\n",
    "        iFPRICE = iPRICE + iPRICE * iGST/100\n",
    "    else:\n",
    "        iGST = 0\n",
    "        iFPRICE = iPRICE + iPRICE * iGST/100\n",
    "    print(f\" New values for {sno_value} are - {iPRANK}, {iGST}, {iFPRICE}\")\n",
    "    \n",
    "    qu2b = f\"UPDATE products SET PRANK = %s, GST = %s, FPRICE = %s  WHERE {pCol} = %s\"\n",
    "    cur = con.cursor()\n",
    "    cur.execute(qu2b, (iPRANK, iGST, iFPRICE, sno_value))\n",
    "    con.commit()\n",
    "    if cur.rowcount > 0:\n",
    "        print(f\"Row(s) Updated successfully! {cur.rowcount} row(s) affected.\")\n",
    "    else:\n",
    "        print(\"No rows found matching the criteria.\")\n",
    "    cur.close()"
   ]
  },
  {
   "cell_type": "code",
   "execution_count": 39,
   "id": "e576391b-987b-47cf-b19e-8863f96932bd",
   "metadata": {
    "tags": []
   },
   "outputs": [],
   "source": [
    "#update_prank()"
   ]
  },
  {
   "cell_type": "code",
   "execution_count": 40,
   "id": "7346c16f",
   "metadata": {},
   "outputs": [],
   "source": [
    "#display_all()"
   ]
  },
  {
   "cell_type": "markdown",
   "id": "d04b0e91-0c90-4949-97dc-bc7e826e2229",
   "metadata": {},
   "source": [
    "## Create Invoice\n",
    "- !pip install fpdf"
   ]
  },
  {
   "cell_type": "code",
   "execution_count": 41,
   "id": "f747c9cc-ab2e-4e16-924c-83a26cf476b9",
   "metadata": {
    "tags": []
   },
   "outputs": [],
   "source": [
    "# Query to fetch invoice data\n",
    "def fetch_invoicedata():\n",
    "    qi1 = '''SELECT p.SNO, p.PNAME, p.PRICE, p.GST, p.FPRICE, i.QTY, \n",
    "    i.INVOICE_ID, i.created_at, (p.FPRICE * i.QTY) AS TPRICE FROM \n",
    "    invoice i INNER JOIN products p ON i.SNO = p.SNO''' \n",
    "    df = pd.read_sql(qi1, con=con)\n",
    "    print(df)"
   ]
  },
  {
   "cell_type": "code",
   "execution_count": 42,
   "id": "4d0c259e-882a-4f7e-bdab-4055670cbf9b",
   "metadata": {
    "tags": []
   },
   "outputs": [],
   "source": [
    "#fetch_invoicedata()"
   ]
  },
  {
   "cell_type": "code",
   "execution_count": 43,
   "id": "313a3273",
   "metadata": {},
   "outputs": [],
   "source": [
    "def additem_invoice():\n",
    "    cName = 'SNO'\n",
    "    sno_value = input(f\"Enter the value for {cName} to add to Invoice : \")\n",
    "    qd3 = f\"SELECT * FROM products WHERE {cName} = %s\"\n",
    "    cur = con.cursor(buffered=True)\n",
    "    cur.execute(qd3, (sno_value,))\n",
    "    product = cur.fetchone()\n",
    "    if product:\n",
    "        print(f\"Product Found\")\n",
    "        iQTY = input(f\"Enter the Quantity for {sno_value} to genarate Invoice for: \")\n",
    "        qii2 = f\"INSERT INTO invoice (SNO, QTY) values (%s, %s)\"\n",
    "        values = (sno_value, iQTY)\n",
    "        cur = con.cursor(buffered=True)\n",
    "        cur.execute(qii2, (values))\n",
    "        cur.close()\n",
    "        con.commit()\n",
    "        print(f\"Product Serial No: {sno_value} with Quantity: {iQTY} inserted successfully.\")\n",
    "    else:\n",
    "        print(\"No rows found matching the criteria.\")\n",
    "    cur.close()"
   ]
  },
  {
   "cell_type": "code",
   "execution_count": 44,
   "id": "bc5ec6c9-412f-48fb-a7c6-a1fb9c9d88d7",
   "metadata": {
    "tags": []
   },
   "outputs": [],
   "source": [
    "#additem_invoice()"
   ]
  },
  {
   "cell_type": "code",
   "execution_count": 45,
   "id": "326641ad-f2d7-45c1-8fdd-776c36ef3cb8",
   "metadata": {
    "tags": []
   },
   "outputs": [],
   "source": [
    "#fetch_invoicedata()"
   ]
  },
  {
   "cell_type": "code",
   "execution_count": 46,
   "id": "1757b997-e4b8-4376-b3ee-e5c089218f6c",
   "metadata": {
    "tags": []
   },
   "outputs": [],
   "source": [
    "def invoice_pdf():\n",
    "    query = '''SELECT i.INVOICE_ID, p.SNO, p.PNAME, p.PRICE, p.GST,\n",
    "    p.FPRICE, i.QTY, (p.FPRICE * i.QTY) AS TPRICE FROM invoice\n",
    "    i INNER JOIN products p ON i.SNO = p.SNO''' \n",
    "    cur = con.cursor()\n",
    "    cur.execute(query)\n",
    "    rows = cur.fetchall()\n",
    "    columns = [col[0] for col in cur.description]\n",
    "    current_datetime = datetime.now().strftime(\"%Y-%m-%d %H:%M:%S\")\n",
    "    #print(columns)\n",
    "    # Create PDF invoice\n",
    "    pdf = FPDF()\n",
    "    pdf.add_page()\n",
    "    pdf.set_font(\"Arial\", size=12)\n",
    "    # Add title\n",
    "    pdf.set_font(\"Arial\", style=\"B\", size=16)\n",
    "    pdf.cell(200, 10,\\\n",
    "             txt=f\"Invoice Generated by Agrima Srivastava at \", ln=True, align=\"C\")\n",
    "    pdf.ln(2)\n",
    "    pdf.cell(200, 10, txt=f\"Date and Time: {current_datetime}\", ln=True, align=\"C\")\n",
    "    pdf.ln(2)\n",
    "    pdf.cell(200, 10, \\\n",
    "     txt=f\"Loreto Convent School - GST Billing System : AY 2024-25\", ln=True, align=\"C\")\n",
    "    pdf.ln(5)\n",
    "\n",
    "    # Add table headers\n",
    "    pdf.set_font(\"Arial\", style=\"B\", size=12)\n",
    "    headers = [\"InvID\",\"SNO\", \"PNAME\", \"PRICE\", \"GST\", \"FPRICE\", \"QTY\", \"TPRICE\"]\n",
    "    col_widths = [15, 15, 50, 20, 20, 20, 15, 30]  # Adjust column widths\n",
    "\n",
    "    for i, header in enumerate(headers):\n",
    "        pdf.cell(col_widths[i], 10, txt=header, border=1, align=\"F\")\n",
    "        #print(i, header)\n",
    "    pdf.ln()  # Move to the next line after headers\n",
    "\n",
    "    # Add table rows\n",
    "    pdf.set_font(\"Arial\", size=10)\n",
    "    grand_total = 0\n",
    "    for row in rows:\n",
    "        grand_total += row[7]  # Accumulate total price\n",
    "        for i, value in enumerate(row):\n",
    "            pdf.cell(col_widths[i], 10, txt=str(value), border=1, align=\"C\")\n",
    "        pdf.ln()  # Move to the next line after each row\n",
    "\n",
    "    # Add grand total\n",
    "    pdf.set_font(\"Arial\", style=\"B\", size=12)\n",
    "    pdf.cell(100, 10, txt=\"Grand Total\", border=1, align=\"C\")\n",
    "    pdf.cell(40, 10, txt=f\"Rs {grand_total:.2f}\", border=1, align=\"C\")\n",
    "    pdf.ln(20)\n",
    "    pdf.cell(200, 10, txt=f\"Generated using Python and MySQL \", ln=True, align=\"C\")\n",
    "   \n",
    "    # Save the PDF\n",
    "    pdf.output(\"GSTinvoice.pdf\")\n",
    "    print(\"Invoice PDF generated successfully as 'GSTinvoice.pdf'.\")\n",
    "    cur.close()"
   ]
  },
  {
   "cell_type": "code",
   "execution_count": 47,
   "id": "42545804",
   "metadata": {},
   "outputs": [],
   "source": [
    "#invoice_pdf()"
   ]
  },
  {
   "cell_type": "markdown",
   "id": "b4d122b5-bd8b-4463-9eed-6b880df14e02",
   "metadata": {},
   "source": [
    "## Main Function"
   ]
  },
  {
   "cell_type": "code",
   "execution_count": 48,
   "id": "aeced73b-1c27-4cfe-9917-cd9b9642b173",
   "metadata": {
    "tags": []
   },
   "outputs": [],
   "source": [
    "def main():\n",
    "    \"\"\"Main function to handle user choices\"\"\"\n",
    "    while True:\n",
    "        # Display menu\n",
    "        current_datetime = datetime.now().strftime(\"%Y-%m-%d %H:%M:%S\")\n",
    "        print(f\"  Welcome to GST Billing {current_datetime} Prepared By Agrima\")\n",
    "        print(\"\\n Choose an operation:\")\n",
    "        print(\"1.  Create Table\")\n",
    "        print(\"2.  Drop/Delete the Table\")\n",
    "        print(\"3.  Insert Sample Data\")\n",
    "        print(\"4.  Insert One By One Data\")\n",
    "        print(\"5.  Insert Products to Invoice Table\")\n",
    "        print(\"6.  Display All the Data in the Products Table\")\n",
    "        print(\"7.  Display Only 1 Row based on SNO\")\n",
    "        print(\"8.  Update PRANK -> GST, FPRICE\")\n",
    "        print(\"9.  Update Other Values\")\n",
    "        print(\"10. Count rows in the Table\")\n",
    "        print(\"11. Delete Row in the Table\")\n",
    "        print(\"12. Describe the structure of the Table\")\n",
    "        print(\"13. Display Product Data in MarkDown Format\")\n",
    "        print(\"14. Display Data in Invoice Table\")\n",
    "        print(\"15. Create Invoice for All Product in Invoice Table\")\n",
    "       \n",
    "        print(\"_______________\") \n",
    "        print(\"0. Exit\")\n",
    "        \n",
    "        # Get user choice\n",
    "        choice = input(\"Enter your choice (from above): \")\n",
    "\n",
    "        # Call the appropriate function\n",
    "        if choice == \"1\":\n",
    "            create_table()  # create table\n",
    "        elif choice == \"2\":\n",
    "            delete_table()\n",
    "        elif choice == \"3\":\n",
    "            insert_sample()\n",
    "        elif choice == \"4\":\n",
    "            add_products()\n",
    "        elif choice == \"5\":\n",
    "            additem_invoice()  \n",
    "        elif choice == \"6\":\n",
    "            display_all()\n",
    "        elif choice == \"7\":\n",
    "            count_SNO() \n",
    "        elif choice == \"8\":\n",
    "            update_prank()\n",
    "        elif choice == \"9\":\n",
    "            update_data()\n",
    "        elif choice == \"10\":\n",
    "            count_SNO() \n",
    "        elif choice == \"11\":\n",
    "            count_SNO()\n",
    "            delete_row()\n",
    "            count_SNO()\n",
    "        elif choice == \"12\":\n",
    "            describe_table()\n",
    "        elif choice == \"13\":\n",
    "            display_mkdown()\n",
    "        elif choice == \"14\":\n",
    "            fetch_invoicedata()\n",
    "        elif choice == \"15\":\n",
    "            invoice_pdf()\n",
    "        elif choice == \"0\":\n",
    "            print(\"Exiting the program. Goodbye!\")\n",
    "            # Clear the output of the current cell\n",
    "            clear_output(wait=True)\n",
    "            break\n",
    "        else:\n",
    "            print(\"Invalid choice. Please try again.\")\n",
    "            clear_output(wait=True)"
   ]
  },
  {
   "cell_type": "code",
   "execution_count": 49,
   "id": "cd8417b1-6be1-45c3-9cf9-685e0b908fa6",
   "metadata": {
    "tags": []
   },
   "outputs": [
    {
     "name": "stdout",
     "output_type": "stream",
     "text": [
      "  Welcome to GST Billing 2025-01-19 16:49:57 Prepared By Agrima\n",
      "\n",
      " Choose an operation:\n",
      "1.  Create Table\n",
      "2.  Drop/Delete the Table\n",
      "3.  Insert Sample Data\n",
      "4.  Insert One By One Data\n",
      "5.  Insert Products to Invoice Table\n",
      "6.  Display All the Data in the Products Table\n",
      "7.  Display Only 1 Row based on SNO\n",
      "8.  Update PRANK -> GST, FPRICE\n",
      "9.  Update Other Values\n",
      "10. Count rows in the Table\n",
      "11. Delete Row in the Table\n",
      "12. Describe the structure of the Table\n",
      "13. Display Product Data in MarkDown Format\n",
      "14. Display Data in Invoice Table\n",
      "15. Create Invoice for All Product in Invoice Table\n",
      "_______________\n",
      "0. Exit\n"
     ]
    },
    {
     "name": "stdin",
     "output_type": "stream",
     "text": [
      "Enter your choice (from above):  14\n"
     ]
    },
    {
     "name": "stderr",
     "output_type": "stream",
     "text": [
      "C:\\Users\\dupad_el7s75\\AppData\\Local\\Temp\\ipykernel_20200\\2688282130.py:6: UserWarning: pandas only supports SQLAlchemy connectable (engine/connection) or database string URI or sqlite3 DBAPI2 connection. Other DBAPI2 objects are not tested. Please consider using SQLAlchemy.\n",
      "  df = pd.read_sql(qi1, con=con)\n"
     ]
    },
    {
     "name": "stdout",
     "output_type": "stream",
     "text": [
      "Empty DataFrame\n",
      "Columns: [SNO, PNAME, PRICE, GST, FPRICE, QTY, INVOICE_ID, created_at, TPRICE]\n",
      "Index: []\n",
      "  Welcome to GST Billing 2025-01-19 16:50:08 Prepared By Agrima\n",
      "\n",
      " Choose an operation:\n",
      "1.  Create Table\n",
      "2.  Drop/Delete the Table\n",
      "3.  Insert Sample Data\n",
      "4.  Insert One By One Data\n",
      "5.  Insert Products to Invoice Table\n",
      "6.  Display All the Data in the Products Table\n",
      "7.  Display Only 1 Row based on SNO\n",
      "8.  Update PRANK -> GST, FPRICE\n",
      "9.  Update Other Values\n",
      "10. Count rows in the Table\n",
      "11. Delete Row in the Table\n",
      "12. Describe the structure of the Table\n",
      "13. Display Product Data in MarkDown Format\n",
      "14. Display Data in Invoice Table\n",
      "15. Create Invoice for All Product in Invoice Table\n",
      "_______________\n",
      "0. Exit\n"
     ]
    },
    {
     "name": "stdin",
     "output_type": "stream",
     "text": [
      "Enter your choice (from above):  3\n"
     ]
    },
    {
     "name": "stdout",
     "output_type": "stream",
     "text": [
      "Sample Data inserted [(10001, 'Product A', 'A', 'Company X', 100, '2024-01-01', 30, 130), (20001, 'Product B', 'B', 'Company Y', 200, '2024-02-01', 15, 230), (30001, 'Product C', 'C', 'Company Z', 300, '2024-03-01', 5, 315), (40001, 'Product D', 'B', 'Company X', 400, '2024-04-01', 15, 460), (50001, 'Product E', 'A', 'Company Y', 500, '2024-05-01', 30, 650)]\n",
      "  Welcome to GST Billing 2025-01-19 16:50:13 Prepared By Agrima\n",
      "\n",
      " Choose an operation:\n",
      "1.  Create Table\n",
      "2.  Drop/Delete the Table\n",
      "3.  Insert Sample Data\n",
      "4.  Insert One By One Data\n",
      "5.  Insert Products to Invoice Table\n",
      "6.  Display All the Data in the Products Table\n",
      "7.  Display Only 1 Row based on SNO\n",
      "8.  Update PRANK -> GST, FPRICE\n",
      "9.  Update Other Values\n",
      "10. Count rows in the Table\n",
      "11. Delete Row in the Table\n",
      "12. Describe the structure of the Table\n",
      "13. Display Product Data in MarkDown Format\n",
      "14. Display Data in Invoice Table\n",
      "15. Create Invoice for All Product in Invoice Table\n",
      "_______________\n",
      "0. Exit\n"
     ]
    },
    {
     "name": "stdin",
     "output_type": "stream",
     "text": [
      "Enter your choice (from above):  6\n"
     ]
    },
    {
     "name": "stdout",
     "output_type": "stream",
     "text": [
      "5 found in the products table\n",
      "\n",
      " All records in the products Table\n",
      "(10001, 'Product A', 'A', 'Company X', datetime.date(2024, 1, 1), Decimal('100.00'), Decimal('30.00'), Decimal('130.00'))\n",
      "(20001, 'Product B', 'B', 'Company Y', datetime.date(2024, 2, 1), Decimal('200.00'), Decimal('15.00'), Decimal('230.00'))\n",
      "(30001, 'Product C', 'C', 'Company Z', datetime.date(2024, 3, 1), Decimal('300.00'), Decimal('5.00'), Decimal('315.00'))\n",
      "(40001, 'Product D', 'B', 'Company X', datetime.date(2024, 4, 1), Decimal('400.00'), Decimal('15.00'), Decimal('460.00'))\n",
      "(50001, 'Product E', 'A', 'Company Y', datetime.date(2024, 5, 1), Decimal('500.00'), Decimal('30.00'), Decimal('650.00'))\n",
      "  Welcome to GST Billing 2025-01-19 16:50:20 Prepared By Agrima\n",
      "\n",
      " Choose an operation:\n",
      "1.  Create Table\n",
      "2.  Drop/Delete the Table\n",
      "3.  Insert Sample Data\n",
      "4.  Insert One By One Data\n",
      "5.  Insert Products to Invoice Table\n",
      "6.  Display All the Data in the Products Table\n",
      "7.  Display Only 1 Row based on SNO\n",
      "8.  Update PRANK -> GST, FPRICE\n",
      "9.  Update Other Values\n",
      "10. Count rows in the Table\n",
      "11. Delete Row in the Table\n",
      "12. Describe the structure of the Table\n",
      "13. Display Product Data in MarkDown Format\n",
      "14. Display Data in Invoice Table\n",
      "15. Create Invoice for All Product in Invoice Table\n",
      "_______________\n",
      "0. Exit\n"
     ]
    },
    {
     "name": "stdin",
     "output_type": "stream",
     "text": [
      "Enter your choice (from above):  13\n"
     ]
    },
    {
     "name": "stdout",
     "output_type": "stream",
     "text": [
      "|    |   SNO | PNAME     | PRANK   | COY       | DOM        |   PRICE |   GST |   FPRICE |\n",
      "|---:|------:|:----------|:--------|:----------|:-----------|--------:|------:|---------:|\n",
      "|  0 | 10001 | Product A | A       | Company X | 2024-01-01 |     100 |    30 |      130 |\n",
      "|  1 | 20001 | Product B | B       | Company Y | 2024-02-01 |     200 |    15 |      230 |\n",
      "|  2 | 30001 | Product C | C       | Company Z | 2024-03-01 |     300 |     5 |      315 |\n",
      "|  3 | 40001 | Product D | B       | Company X | 2024-04-01 |     400 |    15 |      460 |\n",
      "|  4 | 50001 | Product E | A       | Company Y | 2024-05-01 |     500 |    30 |      650 |\n",
      "  Welcome to GST Billing 2025-01-19 16:50:28 Prepared By Agrima\n",
      "\n",
      " Choose an operation:\n",
      "1.  Create Table\n",
      "2.  Drop/Delete the Table\n",
      "3.  Insert Sample Data\n",
      "4.  Insert One By One Data\n",
      "5.  Insert Products to Invoice Table\n",
      "6.  Display All the Data in the Products Table\n",
      "7.  Display Only 1 Row based on SNO\n",
      "8.  Update PRANK -> GST, FPRICE\n",
      "9.  Update Other Values\n",
      "10. Count rows in the Table\n",
      "11. Delete Row in the Table\n",
      "12. Describe the structure of the Table\n",
      "13. Display Product Data in MarkDown Format\n",
      "14. Display Data in Invoice Table\n",
      "15. Create Invoice for All Product in Invoice Table\n",
      "_______________\n",
      "0. Exit\n"
     ]
    },
    {
     "name": "stdin",
     "output_type": "stream",
     "text": [
      "Enter your choice (from above):  0\n"
     ]
    },
    {
     "name": "stdout",
     "output_type": "stream",
     "text": [
      "Exiting the program. Goodbye!\n"
     ]
    }
   ],
   "source": [
    "# Call the main function\n",
    "if __name__ == \"__main__\":\n",
    "    main()"
   ]
  },
  {
   "cell_type": "code",
   "execution_count": null,
   "id": "43af9cbb-15cb-4c6c-b0a8-2fdcfc6dbda8",
   "metadata": {
    "tags": []
   },
   "outputs": [],
   "source": [
    "print('End of File')"
   ]
  },
  {
   "cell_type": "markdown",
   "id": "77700d94-3c67-4eef-9b9a-1dcc70ecc977",
   "metadata": {},
   "source": [
    "# END of GST BILLING project\n",
    "## How to run the GST Billing app\n",
    "- run the notebook from prompt\n",
    "- jupyter execute notebook.ipynb  (change Name) but this will accept the inputs\n",
    "- convert ipynb to py file : jupyter nbcovert --to script gstProjectAS25A.ipynb\n",
    "- this will create a file: gstProjectAS25A.py\n",
    "- python gstProjectAS25A.py"
   ]
  },
  {
   "cell_type": "markdown",
   "id": "63863ef3-9add-410f-b9e7-ecf439c4f3a3",
   "metadata": {},
   "source": [
    "### EOF \n",
    "- ____________"
   ]
  },
  {
   "cell_type": "code",
   "execution_count": null,
   "id": "3852bd16-e28c-4c7e-b633-90ff36893b05",
   "metadata": {},
   "outputs": [],
   "source": []
  }
 ],
 "metadata": {
  "kernelspec": {
   "display_name": "Python 3 (ipykernel)",
   "language": "python",
   "name": "python3"
  },
  "language_info": {
   "codemirror_mode": {
    "name": "ipython",
    "version": 3
   },
   "file_extension": ".py",
   "mimetype": "text/x-python",
   "name": "python",
   "nbconvert_exporter": "python",
   "pygments_lexer": "ipython3",
   "version": "3.11.8"
  },
  "toc-autonumbering": true
 },
 "nbformat": 4,
 "nbformat_minor": 5
}
